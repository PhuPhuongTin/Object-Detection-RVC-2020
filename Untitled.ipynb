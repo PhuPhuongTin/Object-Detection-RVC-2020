{
 "cells": [
  {
   "cell_type": "code",
   "execution_count": 8,
   "metadata": {},
   "outputs": [
    {
     "ename": "ModuleNotFoundError",
     "evalue": "No module named 'tensorflow_hub'",
     "output_type": "error",
     "traceback": [
      "\u001b[1;31m---------------------------------------------------------------------------\u001b[0m",
      "\u001b[1;31mModuleNotFoundError\u001b[0m                       Traceback (most recent call last)",
      "\u001b[1;32m<ipython-input-8-8304b56fec19>\u001b[0m in \u001b[0;36m<module>\u001b[1;34m\u001b[0m\n\u001b[0;32m     13\u001b[0m \u001b[1;32mimport\u001b[0m \u001b[0mtensorflow\u001b[0m\u001b[1;33m.\u001b[0m\u001b[0mcompat\u001b[0m\u001b[1;33m.\u001b[0m\u001b[0mv1\u001b[0m \u001b[1;32mas\u001b[0m \u001b[0mtf\u001b[0m\u001b[1;33m\u001b[0m\u001b[1;33m\u001b[0m\u001b[0m\n\u001b[0;32m     14\u001b[0m \u001b[0mtf\u001b[0m\u001b[1;33m.\u001b[0m\u001b[0mdisable_v2_behavior\u001b[0m\u001b[1;33m(\u001b[0m\u001b[1;33m)\u001b[0m\u001b[1;33m\u001b[0m\u001b[1;33m\u001b[0m\u001b[0m\n\u001b[1;32m---> 15\u001b[1;33m \u001b[1;32mimport\u001b[0m \u001b[0mtensorflow_hub\u001b[0m \u001b[1;32mas\u001b[0m \u001b[0mhub\u001b[0m\u001b[1;33m\u001b[0m\u001b[1;33m\u001b[0m\u001b[0m\n\u001b[0m\u001b[0;32m     16\u001b[0m \u001b[1;32mfrom\u001b[0m \u001b[0mPIL\u001b[0m \u001b[1;32mimport\u001b[0m \u001b[0mImage\u001b[0m\u001b[1;33m,\u001b[0m \u001b[0mImageColor\u001b[0m\u001b[1;33m,\u001b[0m \u001b[0mImageDraw\u001b[0m\u001b[1;33m,\u001b[0m \u001b[0mImageFont\u001b[0m\u001b[1;33m,\u001b[0m \u001b[0mImageOps\u001b[0m\u001b[1;33m\u001b[0m\u001b[1;33m\u001b[0m\u001b[0m\n",
      "\u001b[1;31mModuleNotFoundError\u001b[0m: No module named 'tensorflow_hub'"
     ]
    }
   ],
   "source": [
    "import os\n",
    "import gc\n",
    "gc.enable()\n",
    "from multiprocessing import Pool, cpu_count\n",
    "\n",
    "import matplotlib.pyplot as plt\n",
    "from six import BytesIO\n",
    "import numpy as np\n",
    "import pandas as pd\n",
    "from tqdm import tqdm\n",
    "from pprint import pprint\n",
    "\n",
    "import tensorflow.compat.v1 as tf\n",
    "tf.disable_v2_behavior() \n",
    "import tensorflow_hub as hub\n",
    "from PIL import Image, ImageColor, ImageDraw, ImageFont, ImageOps"
   ]
  },
  {
   "cell_type": "code",
   "execution_count": null,
   "metadata": {},
   "outputs": [],
   "source": [
    "def form_one_prediction_strings(result, i):\n",
    "    class_name = result['detection_class_names'][i].decode(\"utf-8\")\n",
    "    boxes = result['detection_boxes'][i]\n",
    "    score = result['detection_scores'][i]\n",
    "    return f\"{class_name} {score} \" + \" \".join(map(str, boxes))\n",
    "\n",
    "\n",
    "def format_prediction_string(detected):\n",
    "    image_id, result = detected\n",
    "    prediction_strings = [form_one_prediction_strings(result, i) for i in range(len(result['detection_scores']))]\n",
    "    return {\n",
    "        \"ImageID\": image_id,\n",
    "        \"PredictionString\": \" \".join(prediction_strings)\n",
    "    }\n",
    "\n",
    "\n",
    "def inference_one_chunk(data_path, list_image_ids, session, result, image_string_placeholder, predictions):\n",
    "    img_files = {\n",
    "        i: tf.gfile.Open(\n",
    "            os.sep.join([data_path, 'test', f'{i}.jpg']), \"rb\").read() for i in list_image_ids}\n",
    "    \n",
    "    for image_id in tqdm(list_image_ids):\n",
    "        result_out = session.run(\n",
    "            result, feed_dict={image_string_placeholder: img_files[image_id]})\n",
    "\n",
    "        predictions.append((image_id, result_out))\n",
    "        \n",
    "    del img_files\n",
    "    gc.collect()\n",
    "    return\n",
    "\n",
    "\n",
    "def inference():\n",
    "    \n",
    "    # load model\n",
    "    module_handle = \"https://tfhub.dev/google/openimages_v4/ssd/mobilenet_v2/1\"\n",
    "    with tf.device('/device:GPU:0'):\n",
    "        with tf.Graph().as_default():\n",
    "            detector = hub.Module(module_handle)\n",
    "            image_string_placeholder = tf.placeholder(tf.string)\n",
    "            decoded_image = tf.image.decode_jpeg(image_string_placeholder)\n",
    "            decoded_image_float = tf.image.convert_image_dtype(image=decoded_image, dtype=tf.float32)\n",
    "            module_input = tf.expand_dims(decoded_image_float, 0)\n",
    "            result = detector(module_input, as_dict=True)\n",
    "            init_ops = [tf.global_variables_initializer(), tf.tables_initializer()]\n",
    "\n",
    "            session = tf.Session()\n",
    "            session.run(init_ops)\n",
    "\n",
    "    data_path = \"/kaggle/input/open-images-object-detection-rvc-2020\"\n",
    "    sample_submission_df = pd.read_csv(f'{data_path}/sample_submission_v1.csv')\n",
    "    image_ids = sample_submission_df['ImageId']\n",
    "    \n",
    "    predictions = []\n",
    "    with tf.device('/device:GPU:0'):\n",
    "        step = 10\n",
    "        for ii in range(0, len(image_ids), step):\n",
    "            list_image_ids = image_ids.tolist()[ii: ii+step]\n",
    "            inference_one_chunk(data_path, list_image_ids, session, result, image_string_placeholder, predictions)\n",
    "    \n",
    "    predictions_df = pd.DataFrame(list(map(format_prediction_string, predictions)))\n",
    "    predictions_df.to_csv('submission_v1.csv', index=False)\n",
    "    session.close()"
   ]
  },
  {
   "cell_type": "code",
   "execution_count": null,
   "metadata": {},
   "outputs": [],
   "source": []
  }
 ],
 "metadata": {
  "kernelspec": {
   "display_name": "Python 3",
   "language": "python",
   "name": "python3"
  },
  "language_info": {
   "codemirror_mode": {
    "name": "ipython",
    "version": 3
   },
   "file_extension": ".py",
   "mimetype": "text/x-python",
   "name": "python",
   "nbconvert_exporter": "python",
   "pygments_lexer": "ipython3",
   "version": "3.8.3"
  }
 },
 "nbformat": 4,
 "nbformat_minor": 4
}
